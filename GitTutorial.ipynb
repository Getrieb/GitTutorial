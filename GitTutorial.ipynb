{
 "cells": [
  {
   "cell_type": "code",
   "execution_count": 7,
   "id": "4cc4c65c",
   "metadata": {},
   "outputs": [
    {
     "name": "stdout",
     "output_type": "stream",
     "text": [
      "Введіть логін:login\n",
      "Логін правильний\n",
      "Введіть парольpas\n",
      "пароль неправильний, скасування введення\n"
     ]
    }
   ],
   "source": [
    "g = input('Введіть логін:')\n",
    "\n",
    "if g == 'login':\n",
    "    print('Логін правильний')\n",
    "    \n",
    "    k = input('Введіть пароль')\n",
    "    if k == 'password':\n",
    "        print('Пароль правильний')\n",
    "    else:\n",
    "        print('пароль неправильний, скасування введення')\n",
    "    \n",
    "else:\n",
    "    print('Логін неправильний, скасування введення')\n"
   ]
  }
 ],
 "metadata": {
  "kernelspec": {
   "display_name": "Python 3 (ipykernel)",
   "language": "python",
   "name": "python3"
  },
  "language_info": {
   "codemirror_mode": {
    "name": "ipython",
    "version": 3
   },
   "file_extension": ".py",
   "mimetype": "text/x-python",
   "name": "python",
   "nbconvert_exporter": "python",
   "pygments_lexer": "ipython3",
   "version": "3.9.7"
  }
 },
 "nbformat": 4,
 "nbformat_minor": 5
}
